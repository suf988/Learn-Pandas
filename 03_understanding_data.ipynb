{
 "cells": [
  {
   "cell_type": "markdown",
   "id": "31c18199",
   "metadata": {},
   "source": [
    "## Understanding the data\n",
    "---\n",
    "\n",
    "- How many `rows` and `columns` are in the data frame?\n",
    "- What `datatype` is carried by each column (int, float, string, dates etc)?\n",
    "- Which column has `missing data` and where?"
   ]
  },
  {
   "cell_type": "markdown",
   "id": "404e5953",
   "metadata": {},
   "source": [
    "### Info Method\n",
    "---\n",
    "\n",
    "Pandas provides a method called *`info()`* that gives a summarized overview about the details such as:\n",
    "\n",
    "1. No. of rows and columns\n",
    "2. Column name\n",
    "3. Datatypes (int64, float64, object etc)\n",
    "4. Non null counts (missing data in any column)\n",
    "5. Memory usage of the data frame"
   ]
  },
  {
   "cell_type": "code",
   "execution_count": 3,
   "id": "6e51bbf8",
   "metadata": {},
   "outputs": [
    {
     "name": "stdout",
     "output_type": "stream",
     "text": [
      "Summarized detail about the data frame:\n",
      "\n",
      "<class 'pandas.core.frame.DataFrame'>\n",
      "RangeIndex: 20 entries, 0 to 19\n",
      "Data columns (total 6 columns):\n",
      " #   Column       Non-Null Count  Dtype  \n",
      "---  ------       --------------  -----  \n",
      " 0   id           20 non-null     int64  \n",
      " 1   name         20 non-null     object \n",
      " 2   description  20 non-null     object \n",
      " 3   price        20 non-null     float64\n",
      " 4   category     20 non-null     object \n",
      " 5   image        20 non-null     object \n",
      "dtypes: float64(1), int64(1), object(4)\n",
      "memory usage: 1.1+ KB\n",
      "None\n",
      "\n",
      "\n",
      "Summarized detail about the data frame:\n",
      "\n",
      "<class 'pandas.core.frame.DataFrame'>\n",
      "RangeIndex: 4 entries, 0 to 3\n",
      "Data columns (total 3 columns):\n",
      " #   Column  Non-Null Count  Dtype \n",
      "---  ------  --------------  ----- \n",
      " 0   Name    4 non-null      object\n",
      " 1   Age     4 non-null      int64 \n",
      " 2   City    4 non-null      object\n",
      "dtypes: int64(1), object(2)\n",
      "memory usage: 224.0+ bytes\n",
      "None\n"
     ]
    }
   ],
   "source": [
    "import pandas as pd\n",
    "\n",
    "df = pd.read_json(\"sample_Data.json\")\n",
    "\n",
    "print(\"Summarized detail about the data frame:\\n\")\n",
    "print(df.info())\n",
    "\n",
    "# another data:\n",
    "df = pd.read_json(\"output.json\")\n",
    "\n",
    "print(\"\\n\\nSummarized detail about the data frame:\\n\")\n",
    "print(df.info())"
   ]
  },
  {
   "cell_type": "markdown",
   "id": "a5ced527",
   "metadata": {},
   "source": [
    "### Describe Method:\n",
    "---\n",
    "\n",
    "Provides the statistical analysis of the numerical columns in the dataframe.\n",
    "\n",
    "(Data frame mein jtne bhi numerical columns hain, jin mein numerical values hain, statistical analysis krke deta hai.)\n",
    "\n",
    "Such as:\n",
    "\n",
    "- **Count:** No. of non-null values in each column.\n",
    "\n",
    "\n",
    "- **Mean:** The arithematic average of all the values in each column.\n",
    "- **STD (Standard-deviation):** How much spread-out the values are from the mean. Can be High-STD or Low-STD;\n",
    "\n",
    "        High-STD when the STD value is very far from the mean.\n",
    "        Low-STD when the STD value is near to the mean.\n",
    "- **Min:** The lowest value in each column.\n",
    "- **25% (1st Quartile - Q1):** The value below which 25% of the data falls.\n",
    "- **50% (2st Quartile - Q2):** The middle value that divides the data into two equal halves.\n",
    "- **75% (3st Quartile - Q3):** The value below which 75% of the data falls.\n",
    "- **Max:** The highest value in each column."
   ]
  },
  {
   "cell_type": "code",
   "execution_count": 5,
   "id": "ae8c3497",
   "metadata": {},
   "outputs": [
    {
     "name": "stdout",
     "output_type": "stream",
     "text": [
      "         Name  Age  Salary  Performance Score\n",
      "0        Alex   23   32000                 45\n",
      "1       Finch   21   50000                 68\n",
      "2        Root   34   58000                 90\n",
      "3  Williamson   32   21000                 79\n",
      "4     Inzamam   29   88000                 53\n",
      "5     Ponting   45   43000                 75\n",
      "6       Kohli   32   34000                 90\n",
      "\n",
      "\n",
      "Descriptive Statistics:\n",
      "\n",
      "             Age        Salary  Performance Score\n",
      "count   7.000000      7.000000           7.000000\n",
      "mean   30.857143  46571.428571          71.428571\n",
      "std     7.904188  21968.592299          17.367183\n",
      "min    21.000000  21000.000000          45.000000\n",
      "25%    26.000000  33000.000000          60.500000\n",
      "50%    32.000000  43000.000000          75.000000\n",
      "75%    33.000000  54000.000000          84.500000\n",
      "max    45.000000  88000.000000          90.000000\n"
     ]
    }
   ],
   "source": [
    "data = {\n",
    "    \"Name\": [\"Alex\", \"Finch\", \"Root\", \"Williamson\", \"Inzamam\", \"Ponting\", \"Kohli\"],\n",
    "    \"Age\": [23, 21, 34, 32, 29, 45, 32],\n",
    "    \"Salary\": [32000, 50000, 58000, 21000, 88000, 43000, 34000],\n",
    "    \"Performance Score\": [45, 68, 90, 79, 53, 75, 90]\n",
    "\n",
    "}\n",
    "\n",
    "df = pd.DataFrame(data)\n",
    "print(df)\n",
    "\n",
    "print(\"\\n\\nDescriptive Statistics:\\n\")\n",
    "print(df.describe())"
   ]
  }
 ],
 "metadata": {
  "kernelspec": {
   "display_name": "venv",
   "language": "python",
   "name": "python3"
  },
  "language_info": {
   "codemirror_mode": {
    "name": "ipython",
    "version": 3
   },
   "file_extension": ".py",
   "mimetype": "text/x-python",
   "name": "python",
   "nbconvert_exporter": "python",
   "pygments_lexer": "ipython3",
   "version": "3.8.0"
  }
 },
 "nbformat": 4,
 "nbformat_minor": 5
}
