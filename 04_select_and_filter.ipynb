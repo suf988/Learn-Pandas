{
 "cells": [
  {
   "cell_type": "markdown",
   "id": "3a9755bd",
   "metadata": {},
   "source": [
    "## Selection and Filteration in Data frame\n",
    "\n",
    "1. Selecting specific columns.\n",
    "\n",
    "2. Filter rows on specific condition.\n",
    "\n",
    "3. Combining multiple conditions"
   ]
  },
  {
   "cell_type": "markdown",
   "id": "6068f84e",
   "metadata": {},
   "source": [
    "### 1. Selecting specific columns\n",
    "\n",
    "Selecting any specific column to perform analysis. It can return;\n",
    "\n",
    "a. `A Series` (a single column)\n",
    "\n",
    "b. `A dataframe` (multiple column of data)\n",
    "\n",
    "`Syntax (for single col):` column = df[\"Column Name\"]\n",
    "\n",
    "`Syntax (for multiple col):` subset = df[\"Column 1\", \"Column 2\", \"Column 3\", ........ ]"
   ]
  },
  {
   "cell_type": "markdown",
   "id": "4c9c98dd",
   "metadata": {},
   "source": [
    "### 2. Filter rows on specific condition\n",
    "\n",
    "Filtering rows on a single specific condition. `E.g.` Filtering the employees having salary less than 50,000.\n",
    "\n",
    "`Syntax:` filtered_rows = df[ df[\"Column Name\"] > value_or_condition ]"
   ]
  }
 ],
 "metadata": {
  "language_info": {
   "name": "python"
  }
 },
 "nbformat": 4,
 "nbformat_minor": 5
}
