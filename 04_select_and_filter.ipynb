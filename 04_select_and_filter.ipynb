{
 "cells": [
  {
   "cell_type": "markdown",
   "id": "3a9755bd",
   "metadata": {},
   "source": [
    "## Selection and Filteration in Data frame\n",
    "\n",
    "1. Selecting specific columns.\n",
    "\n",
    "2. Filter rows on specific condition.\n",
    "\n",
    "3. Combining multiple conditions"
   ]
  },
  {
   "cell_type": "markdown",
   "id": "6068f84e",
   "metadata": {},
   "source": [
    "### 1. Selecting specific columns\n",
    "\n",
    "Selecting any specific column to perform analysis. It can return;\n",
    "\n",
    "a. `A Series` (a single column)\n",
    "\n",
    "b. `A dataframe` (multiple column of data)\n",
    "\n",
    "`Syntax (for single col):` column = df[\"Column Name\"]\n",
    "\n",
    "`Syntax (for multiple col):` subset = df[ [\"Column 1\", \"Column 2\", \"Column 3\", ........] ]"
   ]
  },
  {
   "cell_type": "code",
   "execution_count": 6,
   "id": "12f05822",
   "metadata": {},
   "outputs": [
    {
     "name": "stdout",
     "output_type": "stream",
     "text": [
      "Original Data:\n",
      "         Name  Age  Salary  Performance Score\n",
      "0        Alex   23   32000                 45\n",
      "1       Finch   21   50000                 68\n",
      "2        Root   34   58000                 90\n",
      "3  Williamson   32   21000                 79\n",
      "4     Inzamam   29   88000                 53\n",
      "5     Ponting   45   43000                 75\n",
      "6       Kohli   32   34000                 90\n",
      "\n",
      "Single Column (Series):\n",
      "\n",
      "Names column: \n",
      "0          Alex\n",
      "1         Finch\n",
      "2          Root\n",
      "3    Williamson\n",
      "4       Inzamam\n",
      "5       Ponting\n",
      "6         Kohli\n",
      "Name: Name, dtype: object\n",
      "\n",
      "Salary column: \n",
      "0    32000\n",
      "1    50000\n",
      "2    58000\n",
      "3    21000\n",
      "4    88000\n",
      "5    43000\n",
      "6    34000\n",
      "Name: Salary, dtype: int64\n"
     ]
    }
   ],
   "source": [
    "import pandas as pd\n",
    "\n",
    "data = {\n",
    "    \"Name\": [\"Alex\", \"Finch\", \"Root\", \"Williamson\", \"Inzamam\", \"Ponting\", \"Kohli\"],\n",
    "    \"Age\": [23, 21, 34, 32, 29, 45, 32],\n",
    "    \"Salary\": [32000, 50000, 58000, 21000, 88000, 43000, 34000],\n",
    "    \"Performance Score\": [45, 68, 90, 79, 53, 75, 90]\n",
    "}\n",
    "\n",
    "df = pd.DataFrame(data)\n",
    "print(f\"Original Data:\\n{df}\")\n",
    "\n",
    "names = df[\"Name\"]\n",
    "salary = df[\"Salary\"]\n",
    "\n",
    "print(\"\\nSingle Column (Series):\")\n",
    "print(f\"\\nNames column: \\n{names}\")\n",
    "print(f\"\\nSalary column: \\n{salary}\")"
   ]
  },
  {
   "cell_type": "code",
   "execution_count": 11,
   "id": "08892d9c",
   "metadata": {},
   "outputs": [
    {
     "name": "stdout",
     "output_type": "stream",
     "text": [
      "Multiple columns (data frames):\n",
      "\n",
      "         Name  Salary  Performance Score\n",
      "0        Alex   32000                 45\n",
      "1       Finch   50000                 68\n",
      "2        Root   58000                 90\n",
      "3  Williamson   21000                 79\n",
      "4     Inzamam   88000                 53\n",
      "5     Ponting   43000                 75\n",
      "6       Kohli   34000                 90\n"
     ]
    }
   ],
   "source": [
    "print(\"Multiple columns (data frames):\\n\")\n",
    "\n",
    "mul_col = df[ [\"Name\", \"Salary\", \"Performance Score\"] ]\n",
    "print(mul_col)"
   ]
  },
  {
   "cell_type": "markdown",
   "id": "4c9c98dd",
   "metadata": {},
   "source": [
    "### 2. Filter rows on specific condition\n",
    "\n",
    "Filtering rows on a single specific condition. `E.g.` Filtering the employees having salary `less than` 50,000.\n",
    "\n",
    "`Syntax:` filtered_rows = df[ df[\"Column Name\"] < value_or_condition ]"
   ]
  },
  {
   "cell_type": "code",
   "execution_count": 14,
   "id": "d1dded0e",
   "metadata": {},
   "outputs": [
    {
     "name": "stdout",
     "output_type": "stream",
     "text": [
      "Employees with salary higher than 35K: \n",
      "\n",
      "      Name  Age  Salary  Performance Score\n",
      "1    Finch   21   50000                 68\n",
      "2     Root   34   58000                 90\n",
      "4  Inzamam   29   88000                 53\n",
      "5  Ponting   45   43000                 75\n"
     ]
    }
   ],
   "source": [
    "higher_sal = df[df[\"Salary\"] > 35000]\n",
    "print(f\"Employees with salary higher than 35K: \\n\\n{higher_sal}\")"
   ]
  },
  {
   "cell_type": "markdown",
   "id": "4943f48b",
   "metadata": {},
   "source": [
    "### 3. Combining multiple conditions\n",
    "\n",
    "Filtering the rows based on multiple conditions. `E.g.` Filtering the employees having salary `more than` 50,000 but `less than` 80,000.\n",
    "\n",
    "Multiple conditions are given using the *`&`* operator.\n",
    "\n",
    "`Syntax:` filtered_rows = df[ ( df[\"Column Name\"] > value ) & ( df[\"Column Name\"] < value ) ]"
   ]
  },
  {
   "cell_type": "code",
   "execution_count": 15,
   "id": "f64ba6f6",
   "metadata": {},
   "outputs": [
    {
     "name": "stdout",
     "output_type": "stream",
     "text": [
      "Filtered rows based on multiple filter: \n",
      "\n",
      "      Name  Age  Salary  Performance Score\n",
      "1    Finch   21   50000                 68\n",
      "4  Inzamam   29   88000                 53\n"
     ]
    }
   ],
   "source": [
    "# filtering employees with age < 30 and salary > 35K\n",
    "\n",
    "multiple_filter = df[ (df[\"Age\"] < 30) & (df[\"Salary\"] > 35000) ]\n",
    "\n",
    "print(f\"Filtered rows based on multiple filter: \\n\\n{multiple_filter}\")"
   ]
  },
  {
   "cell_type": "markdown",
   "id": "c786bbab",
   "metadata": {},
   "source": [
    "### 4. OR Operator\n",
    "\n",
    "It is used to display result when atleast one of the given condition is true.\n",
    "\n",
    "Conditions are given using the **`|`** operator.\n",
    "\n",
    "`Syntax:` filtered_rows = df[ ( df[\"Column Name\"] > value ) | ( df[\"Column Name\"] < value ) ]"
   ]
  },
  {
   "cell_type": "code",
   "execution_count": 16,
   "id": "41595210",
   "metadata": {},
   "outputs": [
    {
     "name": "stdout",
     "output_type": "stream",
     "text": [
      "Filtered rows on the basis of OR operator: \n",
      "         Name  Age  Salary  Performance Score\n",
      "2        Root   34   58000                 90\n",
      "3  Williamson   32   21000                 79\n",
      "5     Ponting   45   43000                 75\n",
      "6       Kohli   32   34000                 90\n"
     ]
    }
   ],
   "source": [
    "# filtered employees with atleast age > 30 or performance score > 90\n",
    "\n",
    "filtered_row = df[ (df[\"Age\"] > 30) | (df[\"Performance Score\"] > 90) ]\n",
    "\n",
    "print(f\"Filtered rows on the basis of OR operator: \\n{filtered_row}\")"
   ]
  }
 ],
 "metadata": {
  "kernelspec": {
   "display_name": "venv",
   "language": "python",
   "name": "python3"
  },
  "language_info": {
   "codemirror_mode": {
    "name": "ipython",
    "version": 3
   },
   "file_extension": ".py",
   "mimetype": "text/x-python",
   "name": "python",
   "nbconvert_exporter": "python",
   "pygments_lexer": "ipython3",
   "version": "3.8.0"
  }
 },
 "nbformat": 4,
 "nbformat_minor": 5
}
