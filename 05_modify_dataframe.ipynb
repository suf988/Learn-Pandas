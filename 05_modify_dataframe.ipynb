{
 "cells": [
  {
   "cell_type": "markdown",
   "id": "6eba600f",
   "metadata": {},
   "source": [
    "## Modifying data frame\n",
    "---\n",
    "1. Adding column\n",
    "\n",
    "2. Update any value in a column\n",
    "\n",
    "3. Remove a column"
   ]
  },
  {
   "cell_type": "markdown",
   "id": "5a33c852",
   "metadata": {
    "vscode": {
     "languageId": "plaintext"
    }
   },
   "source": [
    "### 1. Adding Column\n",
    "---\n",
    "\n",
    "Adding column in a dataframe. There are two ways:\n",
    "\n",
    "In the first method, the column will be added at the end of the dataframe.\n",
    "\n",
    "`Syntax:` df[\"Column Name\"] = data"
   ]
  },
  {
   "cell_type": "code",
   "execution_count": 1,
   "id": "e6b101c5",
   "metadata": {},
   "outputs": [
    {
     "name": "stdout",
     "output_type": "stream",
     "text": [
      "Original Data:\n",
      "         Name  Age  Salary  Performance Score\n",
      "0        Alex   23   32000                 45\n",
      "1       Finch   21   50000                 68\n",
      "2        Root   34   58000                 90\n",
      "3  Williamson   32   21000                 79\n",
      "4     Inzamam   29   88000                 53\n",
      "5     Ponting   45   43000                 75\n",
      "6       Kohli   32   34000                 90\n",
      "\n",
      "Dataframe with 'Bonus' column:\n",
      "         Name  Age  Salary  Performance Score   Bonus\n",
      "0        Alex   23   32000                 45  3200.0\n",
      "1       Finch   21   50000                 68  5000.0\n",
      "2        Root   34   58000                 90  5800.0\n",
      "3  Williamson   32   21000                 79  2100.0\n",
      "4     Inzamam   29   88000                 53  8800.0\n",
      "5     Ponting   45   43000                 75  4300.0\n",
      "6       Kohli   32   34000                 90  3400.0\n"
     ]
    }
   ],
   "source": [
    "import pandas as pd\n",
    "\n",
    "data = {\n",
    "    \"Name\": [\"Alex\", \"Finch\", \"Root\", \"Williamson\", \"Inzamam\", \"Ponting\", \"Kohli\"],\n",
    "    \"Age\": [23, 21, 34, 32, 29, 45, 32],\n",
    "    \"Salary\": [32000, 50000, 58000, 21000, 88000, 43000, 34000],\n",
    "    \"Performance Score\": [45, 68, 90, 79, 53, 75, 90]\n",
    "}\n",
    "\n",
    "df = pd.DataFrame(data)\n",
    "print(f\"Original Data:\\n{df}\")\n",
    "\n",
    "# adding a column named bonus, having 10% salary increment of each employee.\n",
    "df[\"Bonus\"] = df[\"Salary\"] * 0.1\n",
    "print(f\"\\nDataframe with 'Bonus' column:\\n{df}\")"
   ]
  },
  {
   "cell_type": "markdown",
   "id": "4bd9a9c0",
   "metadata": {},
   "source": [
    "In the second method, we can add the column at any position by using the **INSERT** method.\n",
    "\n",
    "`Syntax:` df.insert( location, column name, data you want to add)"
   ]
  },
  {
   "cell_type": "code",
   "execution_count": 3,
   "id": "8b03f222",
   "metadata": {},
   "outputs": [
    {
     "name": "stdout",
     "output_type": "stream",
     "text": [
      "\n",
      "Dataframe with 'Employee ID' at 'Index 0' using 'insert' method:\n",
      "   Employee ID        Name  Age  Salary  Performance Score   Bonus\n",
      "0           10        Alex   23   32000                 45  3200.0\n",
      "1           20       Finch   21   50000                 68  5000.0\n",
      "2           30        Root   34   58000                 90  5800.0\n",
      "3           40  Williamson   32   21000                 79  2100.0\n",
      "4           50     Inzamam   29   88000                 53  8800.0\n",
      "5           60     Ponting   45   43000                 75  4300.0\n",
      "6           70       Kohli   32   34000                 90  3400.0\n"
     ]
    }
   ],
   "source": [
    "df.insert(0, \"Employee ID\", [10, 20, 30, 40, 50, 60, 70])\n",
    "\n",
    "print(f\"\\nDataframe with 'Employee ID' at 'Index 0' using 'insert' method:\\n{df}\")"
   ]
  }
 ],
 "metadata": {
  "kernelspec": {
   "display_name": "venv",
   "language": "python",
   "name": "python3"
  },
  "language_info": {
   "codemirror_mode": {
    "name": "ipython",
    "version": 3
   },
   "file_extension": ".py",
   "mimetype": "text/x-python",
   "name": "python",
   "nbconvert_exporter": "python",
   "pygments_lexer": "ipython3",
   "version": "3.8.0"
  }
 },
 "nbformat": 4,
 "nbformat_minor": 5
}
