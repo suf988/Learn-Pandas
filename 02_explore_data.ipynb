{
 "cells": [
  {
   "cell_type": "markdown",
   "id": "e0101ccc",
   "metadata": {},
   "source": [
    "## Exploring the data\n",
    "---\n",
    "\n",
    "1. **Understanting the dataset:** No. of rows/columns, column names, datatype etc.\n",
    "\n",
    "\n",
    "2. **Identifying the problem:** Check for missing data, incorrect datatype, duplicate entry etc.\n",
    "\n",
    "\n",
    "3. **Plan for next steps:** Plan for the next steps to solve the problems found."
   ]
  },
  {
   "cell_type": "markdown",
   "id": "99e39f9d",
   "metadata": {},
   "source": [
    "### Reading the rows\n",
    "---\n",
    "\n",
    "Rows can be read in order to get better understanding of what the data is all about.\n",
    "\n",
    "Since it is impossible to read whole data, we can read first or last few rows by using the following functions:\n",
    "\n",
    "- **head:** `df.head()` gives first 5 rows by default. We can also specify the number of rows we want by adding number inside ().\n",
    "- **tail:** `df.tail()` gives last 5 rows by default. We can also specify the number of rows we want by adding number inside ()."
   ]
  },
  {
   "cell_type": "code",
   "execution_count": 2,
   "id": "3d3d08a2",
   "metadata": {},
   "outputs": [
    {
     "name": "stdout",
     "output_type": "stream",
     "text": [
      "-----First 5 rows-----\n",
      "\n",
      "   id                                         name  \\\n",
      "0   1                              Apple iPhone 12   \n",
      "1   2                           Samsung Galaxy S21   \n",
      "2   3                           Sony PlayStation 5   \n",
      "3   4            LG OLED55CXPUA 55-inch 4K OLED TV   \n",
      "4   5  Bose QuietComfort 35 II Wireless Headphones   \n",
      "\n",
      "                                         description    price     category  \\\n",
      "0  The Apple iPhone 12 features a 6.1-inch Super ...   999.00  Electronics   \n",
      "1  The Samsung Galaxy S21 features a 6.2-inch Dyn...   799.00  Electronics   \n",
      "2  The Sony PlayStation 5 features an AMD Zen 2-b...   499.99  Electronics   \n",
      "3  The LG OLED55CXPUA 55-inch 4K OLED TV features...  1599.99  Electronics   \n",
      "4  The Bose QuietComfort 35 II Wireless Headphone...   299.00  Electronics   \n",
      "\n",
      "                                               image  \n",
      "0  https://www.apple.com/newsroom/images/product/...  \n",
      "1  https://images.samsung.com/is/image/samsung/p6...  \n",
      "2  https://www.sony.com/image/44baa604124b770c824...  \n",
      "3  https://www.lg.com/us/images/tvs/md07501804/ga...  \n",
      "4  https://assets.bose.com/content/dam/Bose_DAM/W...  \n",
      "\n",
      "\n",
      "-----Last 5 rows-----\n",
      "\n",
      "    id                                       name  \\\n",
      "15  16  Breville Barista Express Espresso Machine   \n",
      "16  17                Keurig K-Elite Coffee Maker   \n",
      "17  18             iRobot Roomba i7+ Robot Vacuum   \n",
      "18  19           Ninja Foodi Digital Air Fry Oven   \n",
      "19  20           Cuisinart ICE-70 Ice Cream Maker   \n",
      "\n",
      "                                          description   price        category  \\\n",
      "15  The Breville Barista Express Espresso Machine ...  699.95  Home & Kitchen   \n",
      "16  The Keurig K-Elite Coffee Maker features a str...  169.99  Home & Kitchen   \n",
      "17  The iRobot Roomba i7+ Robot Vacuum features au...  799.99  Home & Kitchen   \n",
      "18  The Ninja Foodi Digital Air Fry Oven features ...  209.99  Home & Kitchen   \n",
      "19  The Cuisinart ICE-70 Ice Cream Maker features ...  139.99  Home & Kitchen   \n",
      "\n",
      "                                                image  \n",
      "15  https://www.breville.com/content/dam/breville/...  \n",
      "16  https://www.keurig.com/content/dam/global-ecom...  \n",
      "17  https://store.irobot.com/default/i7-vacuuming-...  \n",
      "18  https://www.ninjakitchen.com/static/img/produc...  \n",
      "19  https://www.cuisinart.com/share/images/product...  \n"
     ]
    }
   ],
   "source": [
    "import pandas as pd\n",
    "\n",
    "df = pd.read_json(\"sample_Data.json\")\n",
    "\n",
    "print(\"-----First 5 rows-----\\n\")\n",
    "print(df.head())\n",
    "\n",
    "print(\"\\n\\n-----Last 5 rows-----\\n\")\n",
    "print(df.tail())"
   ]
  },
  {
   "cell_type": "code",
   "execution_count": 5,
   "id": "c07f6d24",
   "metadata": {},
   "outputs": [
    {
     "name": "stdout",
     "output_type": "stream",
     "text": [
      "-----First 3 rows-----\n",
      "\n",
      "   ORDERNUMBER  QUANTITYORDERED  PRICEEACH  ORDERLINENUMBER    SALES  \\\n",
      "0        10107               30      95.70                2  2871.00   \n",
      "1        10121               34      81.35                5  2765.90   \n",
      "2        10134               41      94.74                2  3884.34   \n",
      "\n",
      "        ORDERDATE   STATUS  QTR_ID  MONTH_ID  YEAR_ID  ...  \\\n",
      "0  2/24/2003 0:00  Shipped       1         2     2003  ...   \n",
      "1   5/7/2003 0:00  Shipped       2         5     2003  ...   \n",
      "2   7/1/2003 0:00  Shipped       3         7     2003  ...   \n",
      "\n",
      "                    ADDRESSLINE1  ADDRESSLINE2   CITY STATE POSTALCODE  \\\n",
      "0        897 Long Airport Avenue           NaN    NYC    NY      10022   \n",
      "1             59 rue de l'Abbaye           NaN  Reims   NaN      51100   \n",
      "2  27 rue du Colonel Pierre Avia           NaN  Paris   NaN      75508   \n",
      "\n",
      "  COUNTRY TERRITORY CONTACTLASTNAME CONTACTFIRSTNAME DEALSIZE  \n",
      "0     USA       NaN              Yu             Kwai    Small  \n",
      "1  France      EMEA         Henriot             Paul    Small  \n",
      "2  France      EMEA        Da Cunha           Daniel   Medium  \n",
      "\n",
      "[3 rows x 25 columns]\n",
      "\n",
      "-----Last 3 rows-----\n",
      "\n",
      "      ORDERNUMBER  QUANTITYORDERED  PRICEEACH  ORDERLINENUMBER    SALES  \\\n",
      "2820        10386               43     100.00                4  5417.57   \n",
      "2821        10397               34      62.24                1  2116.16   \n",
      "2822        10414               47      65.52                9  3079.44   \n",
      "\n",
      "           ORDERDATE    STATUS  QTR_ID  MONTH_ID  YEAR_ID  ...  \\\n",
      "2820   3/1/2005 0:00  Resolved       1         3     2005  ...   \n",
      "2821  3/28/2005 0:00   Shipped       1         3     2005  ...   \n",
      "2822   5/6/2005 0:00   On Hold       2         5     2005  ...   \n",
      "\n",
      "               ADDRESSLINE1  ADDRESSLINE2      CITY STATE POSTALCODE COUNTRY  \\\n",
      "2820     C/ Moralzarzal, 86           NaN    Madrid   NaN      28034   Spain   \n",
      "2821  1 rue Alsace-Lorraine           NaN  Toulouse   NaN      31000  France   \n",
      "2822     8616 Spinnaker Dr.           NaN    Boston    MA      51003     USA   \n",
      "\n",
      "     TERRITORY CONTACTLASTNAME CONTACTFIRSTNAME DEALSIZE  \n",
      "2820      EMEA          Freyre            Diego   Medium  \n",
      "2821      EMEA          Roulet          Annette    Small  \n",
      "2822       NaN         Yoshido             Juri   Medium  \n",
      "\n",
      "[3 rows x 25 columns]\n"
     ]
    }
   ],
   "source": [
    "df = pd.read_csv(\"sales_data_sample.csv\", encoding = 'latin1')\n",
    "\n",
    "print(\"-----First 3 rows-----\\n\")\n",
    "print(df.head(3))\n",
    "\n",
    "print(\"\\n-----Last 3 rows-----\\n\")\n",
    "print(df.tail(3))"
   ]
  }
 ],
 "metadata": {
  "kernelspec": {
   "display_name": "venv",
   "language": "python",
   "name": "python3"
  },
  "language_info": {
   "codemirror_mode": {
    "name": "ipython",
    "version": 3
   },
   "file_extension": ".py",
   "mimetype": "text/x-python",
   "name": "python",
   "nbconvert_exporter": "python",
   "pygments_lexer": "ipython3",
   "version": "3.8.0"
  }
 },
 "nbformat": 4,
 "nbformat_minor": 5
}
