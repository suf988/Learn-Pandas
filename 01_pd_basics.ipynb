{
 "cells": [
  {
   "cell_type": "markdown",
   "id": "93d7968f",
   "metadata": {},
   "source": [
    "# Learning Pandas\n",
    "---\n",
    "\n",
    "- **Pandas** is a powerful and popular python library designed for **Data Manipulation**(cleaning, transforming and structuring data) and **Data Analysis** (finding patterns, trends and insights)\n",
    "\n",
    "- It simplifies working with structured datasets like tables, spreadsheets or time-series data.\n",
    "\n",
    "---\n",
    "\n",
    "## Some Pandas key-concepts:\n",
    "\n",
    "### Series: \n",
    "\n",
    "- A **series** is a one-dimensional labeled array that can hold any datatype (integers, floats, strings or even python objects). Each element in the series has a *`unique label`* called ***Index***.\n",
    "\n",
    "- Used to track changes or pattern over time, such as daily temperature, stock prices or sales revenue etc.\n",
    "\n",
    "\n",
    "### Data Frames:\n",
    "\n",
    "- A **Data Frame** is a **two-dimensional labeled data structure** in Pandas, similar to tables in a database, an Excel spreadsheet or a SQL table.\n",
    "\n",
    "- It consists of `rows` and `columns` where:\n",
    "\n",
    "a- Rows have indices (labels)\n",
    "\n",
    "b- Columns have names (labels)"
   ]
  },
  {
   "cell_type": "markdown",
   "id": "b1ed3651",
   "metadata": {},
   "source": [
    "### Read data from CSV, Excel or JSON file into a dataframe\n",
    "\n",
    "- **CSV**: pd.read_csv(\"file path\")\n",
    "- **Excel**: pd.read_excel(\"file path\")\n",
    "- **JSON**: pd.read_json(\"file path\")\n",
    "\n",
    "`Note:` If you can't read the file due to `encoding error`, you can add *encoding=\"utf-8\"* or *encoding=\"latin1\"*."
   ]
  },
  {
   "cell_type": "code",
   "execution_count": null,
   "id": "8630dc5c",
   "metadata": {},
   "outputs": [
    {
     "name": "stdout",
     "output_type": "stream",
     "text": [
      "      Row ID        Order ID Order Date  Ship Date       Ship Mode  \\\n",
      "0          1  CA-2016-152156 2016-11-08 2016-11-11    Second Class   \n",
      "1          2  CA-2016-152156 2016-11-08 2016-11-11    Second Class   \n",
      "2          3  CA-2016-138688 2016-06-12 2016-06-16    Second Class   \n",
      "3          4  US-2015-108966 2015-10-11 2015-10-18  Standard Class   \n",
      "4          5  US-2015-108966 2015-10-11 2015-10-18  Standard Class   \n",
      "...      ...             ...        ...        ...             ...   \n",
      "9989    9990  CA-2014-110422 2014-01-21 2014-01-23    Second Class   \n",
      "9990    9991  CA-2017-121258 2017-02-26 2017-03-03  Standard Class   \n",
      "9991    9992  CA-2017-121258 2017-02-26 2017-03-03  Standard Class   \n",
      "9992    9993  CA-2017-121258 2017-02-26 2017-03-03  Standard Class   \n",
      "9993    9994  CA-2017-119914 2017-05-04 2017-05-09    Second Class   \n",
      "\n",
      "     Customer ID     Customer Name    Segment        Country             City  \\\n",
      "0       CG-12520       Claire Gute   Consumer  United States        Henderson   \n",
      "1       CG-12520       Claire Gute   Consumer  United States        Henderson   \n",
      "2       DV-13045   Darrin Van Huff  Corporate  United States      Los Angeles   \n",
      "3       SO-20335    Sean O'Donnell   Consumer  United States  Fort Lauderdale   \n",
      "4       SO-20335    Sean O'Donnell   Consumer  United States  Fort Lauderdale   \n",
      "...          ...               ...        ...            ...              ...   \n",
      "9989    TB-21400  Tom Boeckenhauer   Consumer  United States            Miami   \n",
      "9990    DB-13060       Dave Brooks   Consumer  United States       Costa Mesa   \n",
      "9991    DB-13060       Dave Brooks   Consumer  United States       Costa Mesa   \n",
      "9992    DB-13060       Dave Brooks   Consumer  United States       Costa Mesa   \n",
      "9993    CC-12220      Chris Cortes   Consumer  United States      Westminster   \n",
      "\n",
      "      ... Postal Code  Region       Product ID         Category Sub-Category  \\\n",
      "0     ...       42420   South  FUR-BO-10001798        Furniture    Bookcases   \n",
      "1     ...       42420   South  FUR-CH-10000454        Furniture       Chairs   \n",
      "2     ...       90036    West  OFF-LA-10000240  Office Supplies       Labels   \n",
      "3     ...       33311   South  FUR-TA-10000577        Furniture       Tables   \n",
      "4     ...       33311   South  OFF-ST-10000760  Office Supplies      Storage   \n",
      "...   ...         ...     ...              ...              ...          ...   \n",
      "9989  ...       33180   South  FUR-FU-10001889        Furniture  Furnishings   \n",
      "9990  ...       92627    West  FUR-FU-10000747        Furniture  Furnishings   \n",
      "9991  ...       92627    West  TEC-PH-10003645       Technology       Phones   \n",
      "9992  ...       92627    West  OFF-PA-10004041  Office Supplies        Paper   \n",
      "9993  ...       92683    West  OFF-AP-10002684  Office Supplies   Appliances   \n",
      "\n",
      "                                           Product Name     Sales  Quantity  \\\n",
      "0                     Bush Somerset Collection Bookcase  261.9600         2   \n",
      "1     Hon Deluxe Fabric Upholstered Stacking Chairs,...  731.9400         3   \n",
      "2     Self-Adhesive Address Labels for Typewriters b...   14.6200         2   \n",
      "3         Bretford CR4500 Series Slim Rectangular Table  957.5775         5   \n",
      "4                        Eldon Fold 'N Roll Cart System   22.3680         2   \n",
      "...                                                 ...       ...       ...   \n",
      "9989                             Ultra Door Pull Handle   25.2480         3   \n",
      "9990  Tenex B1-RE Series Chair Mats for Low Pile Car...   91.9600         2   \n",
      "9991                              Aastra 57i VoIP phone  258.5760         2   \n",
      "9992  It's Hot Message Books with Stickers, 2 3/4\" x 5\"   29.6000         4   \n",
      "9993  Acco 7-Outlet Masterpiece Power Center, Wihtou...  243.1600         2   \n",
      "\n",
      "      Discount    Profit  \n",
      "0         0.00   41.9136  \n",
      "1         0.00  219.5820  \n",
      "2         0.00    6.8714  \n",
      "3         0.45 -383.0310  \n",
      "4         0.20    2.5164  \n",
      "...        ...       ...  \n",
      "9989      0.20    4.1028  \n",
      "9990      0.00   15.6332  \n",
      "9991      0.20   19.3932  \n",
      "9992      0.00   13.3200  \n",
      "9993      0.00   72.9480  \n",
      "\n",
      "[9994 rows x 21 columns]\n"
     ]
    }
   ],
   "source": [
    "import pandas as pd\n",
    "\n",
    "# CSV\n",
    "df = pd.read_csv(\"sales_data_sample.csv\", encoding=\"latin1\")    # either \"utf-8\" or \"latin1\" in encoding\n",
    "\n",
    "# Excel\n",
    "df = pd.read_excel(\"SampleSuperstore.xlsx\")\n",
    "\n",
    "# JSON\n",
    "df = pd.read_json(\"sample_Data.json\")\n",
    "\n",
    "print(df)"
   ]
  },
  {
   "cell_type": "markdown",
   "id": "65eab6c8",
   "metadata": {},
   "source": [
    "### Creating a DataFrame and storing in different formats\n",
    "\n",
    "Data frame is created as a dictionary. It `automatically` marks the input given in indices."
   ]
  },
  {
   "cell_type": "code",
   "execution_count": null,
   "id": "3104cac4",
   "metadata": {},
   "outputs": [
    {
     "name": "stdout",
     "output_type": "stream",
     "text": [
      "       Name  Age      City\n",
      "0     Harry   21  Edinburg\n",
      "1  Hermione   22   Toronto\n",
      "2       Ron   30     Milan\n",
      "3    Malfoy   25  Helsinki\n"
     ]
    }
   ],
   "source": [
    "data = {\n",
    "    \"Name\": [\"Harry\", \"Hermione\", \"Ron\", \"Malfoy\"],\n",
    "    \"Age\": [21, 22, 30, 25],\n",
    "    \"City\": [\"Edinburg\", \"Toronto\", \"Milan\", \"Helsinki\"]\n",
    "}\n",
    "\n",
    "df = pd.DataFrame(data) # converted the data into dataframe (along with auto indexing)\n",
    "\n",
    "print(df)"
   ]
  },
  {
   "cell_type": "markdown",
   "id": "8d411119",
   "metadata": {},
   "source": [
    "### Saving the created data frame in to different formats\n",
    "\n",
    "Dataframe can be saved into different formats (like `csv`, `excel` or `json` etc).\n",
    "\n",
    "- **CSV:** df.to_csv(\"`filePathWithFileName`\")\n",
    "- **Excel:** df.to_excel(\"`filePathWithFileName`\")\n",
    "- **JSON:** df.to_json(\"`filePathWithFileName`\")\n",
    "\n",
    "We can remove that automatic-indexing if we don't want it by passing `index=False`"
   ]
  },
  {
   "cell_type": "code",
   "execution_count": null,
   "id": "650af825",
   "metadata": {},
   "outputs": [],
   "source": [
    "# Saving in csv\n",
    "df.to_csv(\"output.csv\", index=False)\n",
    "\n",
    "# Saving in excel\n",
    "df.to_excel(\"output.xlsx\", index=False)\n",
    "\n",
    "# Saving in json\n",
    "df.to_json(\"output.json\", orient=\"records\")  # use orient = \"records\" for json to remove indexing"
   ]
  }
 ],
 "metadata": {
  "kernelspec": {
   "display_name": "venv",
   "language": "python",
   "name": "python3"
  },
  "language_info": {
   "codemirror_mode": {
    "name": "ipython",
    "version": 3
   },
   "file_extension": ".py",
   "mimetype": "text/x-python",
   "name": "python",
   "nbconvert_exporter": "python",
   "pygments_lexer": "ipython3",
   "version": "3.8.0"
  }
 },
 "nbformat": 4,
 "nbformat_minor": 5
}
