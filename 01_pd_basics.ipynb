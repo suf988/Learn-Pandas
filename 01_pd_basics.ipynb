{
 "cells": [
  {
   "cell_type": "markdown",
   "id": "93d7968f",
   "metadata": {},
   "source": [
    "# Learning Pandas\n",
    "---\n",
    "\n",
    "- **Pandas** is a powerful and popular python library designed for **Data Manipulation**(cleaning, transforming and structuring data) and **Data Analysis** (finding patterns, trends and insights)\n",
    "\n",
    "- It simplifies working with structured datasets like tables, spreadsheets or time-series data.\n",
    "\n",
    "---\n",
    "\n",
    "## Some Pandas key-concepts:\n",
    "\n",
    "### Series: \n",
    "\n",
    "- A **series** is a one-dimensional labeled array that can hold any datatype (integers, floats, strings or even python objects). Each element in the series has a *`unique label`* called ***Index***.\n",
    "\n",
    "- Used to track changes or pattern over time, such as daily temperature, stock prices or sales revenue etc.\n",
    "\n",
    "\n",
    "### Data Frames:\n",
    "\n",
    "- A **Data Frame** is a **two-dimensional labeled data structure** in Pandas, similar to tables in a database, an Excel spreadsheet or a SQL table.\n",
    "\n",
    "- It consists of `rows` and `columns` where:\n",
    "\n",
    "a- Rows have indices (labels)\n",
    "\n",
    "b- Columns have names (labels)"
   ]
  }
 ],
 "metadata": {
  "kernelspec": {
   "display_name": "Python 3 (ipykernel)",
   "language": "python",
   "name": "python3"
  }
 },
 "nbformat": 4,
 "nbformat_minor": 5
}
